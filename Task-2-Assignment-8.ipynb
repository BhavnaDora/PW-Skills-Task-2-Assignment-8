{
 "cells": [
  {
   "cell_type": "markdown",
   "id": "e44d1fee-b8b3-4979-a547-f746384aebfe",
   "metadata": {},
   "source": [
    "#### (1)-"
   ]
  },
  {
   "cell_type": "code",
   "execution_count": 12,
   "id": "c8345338-ea2d-4c9a-95fa-c79168ba3400",
   "metadata": {},
   "outputs": [
    {
     "name": "stdin",
     "output_type": "stream",
     "text": [
      "Enter a password: B1A2cde@#*\n"
     ]
    },
    {
     "data": {
      "text/plain": [
       "'Valid Password'"
      ]
     },
     "execution_count": 12,
     "metadata": {},
     "output_type": "execute_result"
    }
   ],
   "source": [
    "password= input(\"Enter a password:\")\n",
    "\n",
    "def check_password(password):\n",
    "    ctr1,ctr2,ctr3,ctr4=0,0,0,0\n",
    "    for i in password:\n",
    "        if i.isupper()==True:\n",
    "            ctr1+=1\n",
    "        elif i.islower()==True:\n",
    "            ctr2+=1\n",
    "        elif i.isnumeric()==True:\n",
    "            ctr3+=1\n",
    "        else:\n",
    "            ctr4+=1\n",
    "    \n",
    "    if ctr1>=2 and ctr2>=2 and ctr3>=1 and ctr4==3 and len(password)==10:\n",
    "        return \"Valid Password\"\n",
    "    else:\n",
    "        return \"Invalid Password\"\n",
    "\n",
    "check_password(password)\n",
    "    "
   ]
  },
  {
   "cell_type": "markdown",
   "id": "018f04f9-cc86-4660-a4fb-8d77343a57c9",
   "metadata": {},
   "source": [
    "#### (2)(a)-"
   ]
  },
  {
   "cell_type": "code",
   "execution_count": 35,
   "id": "5bd34408-28f5-4aac-8c3f-be75a7c9dacd",
   "metadata": {},
   "outputs": [
    {
     "name": "stdin",
     "output_type": "stream",
     "text": [
      "Enter a string: Welcome to Data Science Masters\n"
     ]
    },
    {
     "data": {
      "text/plain": [
       "True"
      ]
     },
     "execution_count": 35,
     "metadata": {},
     "output_type": "execute_result"
    }
   ],
   "source": [
    "# To check if the string starts with a particular letter\n",
    "\n",
    "str1= input(\"Enter a string:\")\n",
    "check1= lambda x: x.startswith(\"W\")\n",
    "check1(str1)"
   ]
  },
  {
   "cell_type": "markdown",
   "id": "8f57c3a2-9f6e-47cf-a063-f2f8187196ed",
   "metadata": {},
   "source": [
    "#### (2)(b)-"
   ]
  },
  {
   "cell_type": "code",
   "execution_count": 36,
   "id": "fa47f079-6096-4774-b4e8-b08e3d147a0e",
   "metadata": {},
   "outputs": [
    {
     "name": "stdin",
     "output_type": "stream",
     "text": [
      "Enter a string: 23rd\n"
     ]
    },
    {
     "data": {
      "text/plain": [
       "False"
      ]
     },
     "execution_count": 36,
     "metadata": {},
     "output_type": "execute_result"
    }
   ],
   "source": [
    "# To check if the string is numeric\n",
    "\n",
    "str2= input(\"Enter a string:\")\n",
    "check2= lambda x: x.isnumeric()==True\n",
    "check2(str2)"
   ]
  },
  {
   "cell_type": "markdown",
   "id": "2c16d42e-4b87-4e8e-a369-2eacde6d09a0",
   "metadata": {},
   "source": [
    "#### (2)(c)-"
   ]
  },
  {
   "cell_type": "code",
   "execution_count": 26,
   "id": "4e6c4020-2c97-4ee5-b92a-e68cf4917f22",
   "metadata": {},
   "outputs": [
    {
     "data": {
      "text/plain": [
       "[('orange', 80), ('mango', 99), ('grapes', 1000)]"
      ]
     },
     "execution_count": 26,
     "metadata": {},
     "output_type": "execute_result"
    }
   ],
   "source": [
    "# To sort the given list containing tuples of fruits and their quantity\n",
    "\n",
    "lst1= [(\"mango\",99),(\"orange\",80), (\"grapes\", 1000)]\n",
    "lst1.sort(key= lambda x: x[-1])\n",
    "lst1"
   ]
  },
  {
   "cell_type": "markdown",
   "id": "bc3a3ea4-13d1-4124-a943-c3dd9c725f69",
   "metadata": {},
   "source": [
    "#### (2)(d)-"
   ]
  },
  {
   "cell_type": "code",
   "execution_count": 28,
   "id": "2f327187-4c75-43d0-9654-bd89fa750493",
   "metadata": {},
   "outputs": [
    {
     "data": {
      "text/plain": [
       "[1, 4, 9, 16, 25, 36, 49, 64, 81, 100]"
      ]
     },
     "execution_count": 28,
     "metadata": {},
     "output_type": "execute_result"
    }
   ],
   "source": [
    "# Squares of numbers from 1 to 10\n",
    "\n",
    "squares= [ i**2 for i in range(1,11)]\n",
    "squares"
   ]
  },
  {
   "cell_type": "markdown",
   "id": "33805711-324e-4841-a53f-062da418a0b1",
   "metadata": {},
   "source": [
    "#### (2)(e)-"
   ]
  },
  {
   "cell_type": "code",
   "execution_count": 31,
   "id": "24a901b1-35d1-4c9c-97ad-ec73a3ef7820",
   "metadata": {},
   "outputs": [
    {
     "data": {
      "text/plain": [
       "[1.0,\n",
       " 1.2599210498948732,\n",
       " 1.4422495703074083,\n",
       " 1.5874010519681994,\n",
       " 1.7099759466766968,\n",
       " 1.8171205928321397,\n",
       " 1.912931182772389,\n",
       " 2.0,\n",
       " 2.080083823051904,\n",
       " 2.154434690031884]"
      ]
     },
     "execution_count": 31,
     "metadata": {},
     "output_type": "execute_result"
    }
   ],
   "source": [
    "# Cube root of numbers from 1 to 10\n",
    "\n",
    "cube_root= [ i**(1/3) for i in range(1,11)]\n",
    "cube_root"
   ]
  },
  {
   "cell_type": "markdown",
   "id": "6817c7fe-9571-47ee-8992-14c628c55665",
   "metadata": {},
   "source": [
    "#### (2)(f)-"
   ]
  },
  {
   "cell_type": "code",
   "execution_count": 34,
   "id": "ab22eac3-28ac-4b42-ab46-547ffb0cca2c",
   "metadata": {},
   "outputs": [
    {
     "name": "stdin",
     "output_type": "stream",
     "text": [
      "enter a no.: 24\n"
     ]
    },
    {
     "data": {
      "text/plain": [
       "True"
      ]
     },
     "execution_count": 34,
     "metadata": {},
     "output_type": "execute_result"
    }
   ],
   "source": [
    "# To check if a given number is even\n",
    "num= float(input(\"enter a no.:\"))\n",
    "check3= lambda x: x%2==0\n",
    "check3(num)"
   ]
  },
  {
   "cell_type": "markdown",
   "id": "8c2bd825-7f66-4b64-975a-4ff00ba7843f",
   "metadata": {},
   "source": [
    "#### (2)(g)-"
   ]
  },
  {
   "cell_type": "code",
   "execution_count": 38,
   "id": "4af83859-6707-44e7-a3fb-7822d9864b81",
   "metadata": {},
   "outputs": [
    {
     "data": {
      "text/plain": [
       "[1, 3, 5, 7, 9]"
      ]
     },
     "execution_count": 38,
     "metadata": {},
     "output_type": "execute_result"
    }
   ],
   "source": [
    "# To filter odd numbers from the list\n",
    "\n",
    "lst2= [1,2,3,4,5,6,7,8,9,10]\n",
    "odd_no_list= list(filter( lambda x: x%2!=0, lst2))\n",
    "odd_no_list"
   ]
  },
  {
   "cell_type": "markdown",
   "id": "bd61f8a7-bf7f-4466-83b6-b85a1e7a480b",
   "metadata": {},
   "source": [
    "#### (2)(h)-"
   ]
  },
  {
   "cell_type": "code",
   "execution_count": 46,
   "id": "1839fc0e-959a-4852-9cb2-d3f06df22c39",
   "metadata": {},
   "outputs": [
    {
     "data": {
      "text/plain": [
       "[0, 1, 2, 3, 4, 5, 6]"
      ]
     },
     "execution_count": 46,
     "metadata": {},
     "output_type": "execute_result"
    }
   ],
   "source": [
    "# Sort the given list into positive and negative integers lists\n",
    "\n",
    "lst3= [1,2,3,4,5,6,-1,-2,-3,-4,-5,0]\n",
    "positive_no= [i for i in lst3 if i>=0]\n",
    "positive_no.sort()\n",
    "positive_no"
   ]
  },
  {
   "cell_type": "code",
   "execution_count": 47,
   "id": "e44871c6-0fdc-403c-8be3-e11735abf320",
   "metadata": {},
   "outputs": [
    {
     "data": {
      "text/plain": [
       "[-1, -2, -3, -4, -5]"
      ]
     },
     "execution_count": 47,
     "metadata": {},
     "output_type": "execute_result"
    }
   ],
   "source": [
    "negative_no= [ i for i in lst3 if i<0]\n",
    "negative_no"
   ]
  }
 ],
 "metadata": {
  "kernelspec": {
   "display_name": "Python 3 (ipykernel)",
   "language": "python",
   "name": "python3"
  },
  "language_info": {
   "codemirror_mode": {
    "name": "ipython",
    "version": 3
   },
   "file_extension": ".py",
   "mimetype": "text/x-python",
   "name": "python",
   "nbconvert_exporter": "python",
   "pygments_lexer": "ipython3",
   "version": "3.10.8"
  }
 },
 "nbformat": 4,
 "nbformat_minor": 5
}
